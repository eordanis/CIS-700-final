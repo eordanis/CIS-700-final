{
  "nbformat": 4,
  "nbformat_minor": 0,
  "metadata": {
    "colab": {
      "name": "Stephanie_Eordanidis_CIS700_Final_Q1.ipynb",
      "provenance": [],
      "collapsed_sections": [],
      "toc_visible": true
    },
    "kernelspec": {
      "display_name": "Python 3",
      "language": "python",
      "name": "python3"
    },
    "language_info": {
      "codemirror_mode": {
        "name": "ipython",
        "version": 2
      },
      "file_extension": ".py",
      "mimetype": "text/x-python",
      "name": "python",
      "nbconvert_exporter": "python",
      "pygments_lexer": "ipython2",
      "version": "2.7.6"
    }
  },
  "cells": [
    {
      "cell_type": "markdown",
      "metadata": {
        "collapsed": false,
        "id": "_RTasmaUQsnX"
      },
      "source": [
        "# Final Q1\n",
        "\n",
        "Stephanie Eordanidis\n",
        "\n",
        "Final Exam Q1\n",
        "\n",
        "College of Engineering & Computer Science, Syracuse University\n",
        "\n",
        "CIS 700 Machine Learning and Security\n",
        "\n",
        "Dr. Alsmadi Izzat\n",
        "\n",
        "06/16/2021\n",
        "\n"
      ]
    },
    {
      "cell_type": "markdown",
      "metadata": {
        "collapsed": false,
        "id": "M443L_l7Qsng"
      },
      "source": [
        "## Purpose:\n",
        "The purpose of this lab is to fullfil the requirements of the final exam's question 1\n",
        "\n",
        "Using the eapoe.txt dataset from the course project, ensemble learning methods will be explored on this dataset. \n",
        "\n",
        "First method explored is Stacking, with various classifiers applied, measuring accuracy against each classifier prediciton, and applying subsampling variants to the data to see the affects."
      ]
    },
    {
      "cell_type": "markdown",
      "metadata": {
        "collapsed": false,
        "id": "YmXaOJ8AQsni"
      },
      "source": [
        "## (Hard/Soft)ware:\n",
        "**Google Colaboratory**\t\thttps://colab.research.google.com/\n",
        "\n",
        "**GPU**                     Python 3 Google Compute Engine backend\n",
        "\n",
        "**Github**                  https://github.com/eordanis/CIS-700-final"
      ]
    },
    {
      "cell_type": "markdown",
      "metadata": {
        "collapsed": false,
        "id": "QGtxblBCQsni"
      },
      "source": [
        "## Resources:\n",
        "**Original Source:**\n",
        "\n",
        "* [Stacking Source 1](https://medium.com/@saugata.paul1010/ensemble-learning-bagging-boosting-stacking-and-cascading-classifiers-in-machine-learning-9c66cb271674)\n",
        "* [Stacking Source 2](https://machinelearningmastery.com/stacking-ensemble-machine-learning-with-python/)\n",
        "* [Stacking Source 3](https://www.kaggle.com/hdj0401/stacking-classifier-testing)"
      ]
    },
    {
      "cell_type": "markdown",
      "metadata": {
        "collapsed": false,
        "id": "kolVF4c9Qsnj"
      },
      "source": [
        "## Data:\n",
        "The data for the selected project is setup as follows:\n",
        "*   eapoe : 255 sentences\n",
        " *  eapoe : 25 sentences Compiled from various Edgar Allan Po Poems found on referenced poem sight  [1].\n",
        " \n",
        "> **NOTE:** Due to confusion on how to run classifiers on the text only dataset, a sentiment column was added to the eapoe text and converted into a csv. test and training data were merged and have had sentiment values while the other had default values to be used to train\n",
        "\n",
        "* iris: 150 entries\n",
        "    * 150 row data set with 5 columns. Used to test classifier functionallity"
      ]
    },
    {
      "cell_type": "markdown",
      "metadata": {
        "collapsed": false,
        "id": "tnT5EoDoQsnk"
      },
      "source": [
        "## Modifications:\n",
        " \n",
        " **Stacking**\n",
        "\n",
        " For stacking.py, code is based on both stacking sources indicated. Cleaned up file and added more classifiers to the py file run.\n",
        "\n"
      ]
    },
    {
      "cell_type": "markdown",
      "metadata": {
        "collapsed": false,
        "id": "BlSdA9AHQsnk"
      },
      "source": [
        "## Setup:\n",
        "Project was run and tested on google colab environment.\n",
        "\n",
        "“Stephanie_Eordanidis_CIS700_Final_Q1”. This workspace was run using the hosted runtime environment. This document is the current document being read.\n",
        "\n",
        "In order to run against provided code base, it was necessary to sync the colab workspace the github repository files as follows\n",
        "\n",
        "```\n",
        "!git clone https://$GITHUB_AUTH@github.com/eordanis/CIS-700-final/\n",
        "```\n",
        "\n",
        "Running this command from the first cell in the workbook syncs the drive to the github repo location of project location, as well as change to the necessary directory\n"
      ]
    },
    {
      "cell_type": "code",
      "metadata": {
        "id": "VW3S7VYw0c-2"
      },
      "source": [
        "import shutil\n",
        "# to prevent nesting problems, remove directory and its contents if exists\n",
        "#if called to remove known existing, must restart runtime before cloning again\n",
        "dir_path = '/content/CIS-700-final'\n",
        "try:\n",
        "    shutil.rmtree(dir_path)\n",
        "except OSError as e:\n",
        "    print(\"Error: %s : %s\" % (dir_path, e.strerror))"
      ],
      "execution_count": 71,
      "outputs": []
    },
    {
      "cell_type": "code",
      "metadata": {
        "id": "7jPNtvoeQsnl"
      },
      "source": [
        "!git clone https://$GITHUB_AUTH@github.com/eordanis/CIS-700-final/\n",
        "%cd CIS-700-final"
      ],
      "execution_count": null,
      "outputs": []
    },
    {
      "cell_type": "markdown",
      "metadata": {
        "id": "FW1FRztnKkb9"
      },
      "source": [
        "## Stacking\n",
        "\n",
        "The purpose of applying Stacking is in order to increase prediction model accuracy. Cross validation is used to determine and improve model accuracy."
      ]
    },
    {
      "cell_type": "code",
      "metadata": {
        "colab": {
          "base_uri": "https://localhost:8080/"
        },
        "id": "rH3hDpOdN_Nk",
        "outputId": "392c4e98-a441-47a3-a139-a76036b5b6ec"
      },
      "source": [
        "!python3 -W ignore stacking.py -d 'data/eapoe.csv'"
      ],
      "execution_count": null,
      "outputs": [
        {
          "output_type": "stream",
          "text": [
            "\n",
            "******************************************************************\n",
            "\n",
            "\tStack Ensemble Classifier Example\n",
            "\n",
            "******************************************************************\n",
            "\n",
            "Beginning Classification Modeling...\n",
            "\n",
            "Recording Time Elapse...\n",
            "\n",
            "Accuracy\tVariance (+/-)\tClassifer\n",
            "\n",
            "0.596\t\t0.100\t\tRandomForest  \n",
            "0.665\t\t0.115\t\tKNeighbors  \n",
            "0.642\t\t0.106\t\tLogisticRegression  \n",
            "0.622\t\t0.103\t\tExtraTrees  \n",
            "0.579\t\t0.097\t\tDecisionTree  \n",
            "0.536\t\t0.103\t\tAdaBoost  \n",
            "0.678\t\t0.089\t\tStacking  \n",
            "<Figure size 640x480 with 1 Axes>\n",
            "\n",
            "******** Completed Classification Modeling ********\n",
            "\n",
            "Time Elapsed: 28secs\n",
            "\n"
          ],
          "name": "stdout"
        }
      ]
    },
    {
      "cell_type": "code",
      "metadata": {
        "colab": {
          "base_uri": "https://localhost:8080/",
          "height": 266
        },
        "id": "61U3mo5r9Gac",
        "outputId": "b59ca399-5096-45de-8213-f8c368656652"
      },
      "source": [
        "import visual as vis\n",
        "\n",
        "vis.display_stacking_dataframe()"
      ],
      "execution_count": 2,
      "outputs": [
        {
          "output_type": "display_data",
          "data": {
            "text/html": [
              "<div>\n",
              "<style scoped>\n",
              "    .dataframe tbody tr th:only-of-type {\n",
              "        vertical-align: middle;\n",
              "    }\n",
              "\n",
              "    .dataframe tbody tr th {\n",
              "        vertical-align: top;\n",
              "    }\n",
              "\n",
              "    .dataframe thead th {\n",
              "        text-align: right;\n",
              "    }\n",
              "</style>\n",
              "<table border=\"1\" class=\"dataframe\">\n",
              "  <thead>\n",
              "    <tr style=\"text-align: right;\">\n",
              "      <th></th>\n",
              "      <th>Classifier</th>\n",
              "      <th>Accuracy</th>\n",
              "      <th>Variance</th>\n",
              "    </tr>\n",
              "  </thead>\n",
              "  <tbody>\n",
              "    <tr>\n",
              "      <th>0</th>\n",
              "      <td>RandomForest</td>\n",
              "      <td>0.5960</td>\n",
              "      <td>0.1002</td>\n",
              "    </tr>\n",
              "    <tr>\n",
              "      <th>1</th>\n",
              "      <td>KNeighbors</td>\n",
              "      <td>0.6647</td>\n",
              "      <td>0.1149</td>\n",
              "    </tr>\n",
              "    <tr>\n",
              "      <th>2</th>\n",
              "      <td>LogisticRegression</td>\n",
              "      <td>0.6418</td>\n",
              "      <td>0.1062</td>\n",
              "    </tr>\n",
              "    <tr>\n",
              "      <th>3</th>\n",
              "      <td>ExtraTrees</td>\n",
              "      <td>0.6223</td>\n",
              "      <td>0.1031</td>\n",
              "    </tr>\n",
              "    <tr>\n",
              "      <th>4</th>\n",
              "      <td>DecisionTree</td>\n",
              "      <td>0.5788</td>\n",
              "      <td>0.0966</td>\n",
              "    </tr>\n",
              "    <tr>\n",
              "      <th>5</th>\n",
              "      <td>AdaBoost</td>\n",
              "      <td>0.5357</td>\n",
              "      <td>0.1033</td>\n",
              "    </tr>\n",
              "    <tr>\n",
              "      <th>6</th>\n",
              "      <td>Stacking</td>\n",
              "      <td>0.6785</td>\n",
              "      <td>0.0888</td>\n",
              "    </tr>\n",
              "  </tbody>\n",
              "</table>\n",
              "</div>"
            ],
            "text/plain": [
              "           Classifier  Accuracy  Variance\n",
              "0        RandomForest    0.5960    0.1002\n",
              "1          KNeighbors    0.6647    0.1149\n",
              "2  LogisticRegression    0.6418    0.1062\n",
              "3          ExtraTrees    0.6223    0.1031\n",
              "4        DecisionTree    0.5788    0.0966\n",
              "5            AdaBoost    0.5357    0.1033\n",
              "6            Stacking    0.6785    0.0888"
            ]
          },
          "metadata": {
            "tags": []
          }
        }
      ]
    },
    {
      "cell_type": "code",
      "metadata": {
        "colab": {
          "base_uri": "https://localhost:8080/",
          "height": 638
        },
        "id": "c1A7kffzEu0z",
        "outputId": "f3248959-b2e5-42cd-fb11-4c81cdb7b375"
      },
      "source": [
        "vis.display_stacking_metrics()"
      ],
      "execution_count": 3,
      "outputs": [
        {
          "output_type": "display_data",
          "data": {
            "image/png": "[encoded data removed]",
            "text/plain": [
              "<Figure size 720x720 with 1 Axes>"
            ]
          },
          "metadata": {
            "tags": [],
            "needs_background": "light"
          }
        },
        {
          "output_type": "display_data",
          "data": {
            "text/plain": [
              "<Figure size 432x288 with 0 Axes>"
            ]
          },
          "metadata": {
            "tags": []
          }
        }
      ]
    },
    {
      "cell_type": "markdown",
      "metadata": {
        "id": "tftjOg13IsXO"
      },
      "source": [
        "### Results\n",
        "\n",
        "As seen by above metric results, accuracies for the models are fairly consistent. However, ensemble stacking proves to be more accurate and less variant than all of the singular layered classifiers applied. "
      ]
    },
    {
      "cell_type": "markdown",
      "metadata": {
        "id": "Hag_a13PCkLN"
      },
      "source": [
        "## Notes\n",
        "\n",
        "I had difficulty determining how to apply the text to the classifiers in the state they were in. The purpose of this questoin on the final was to explore and implement different ensemble methods with two code implementations under differing category types. This report demos this fact, as no other specifications for this final question were stated."
      ]
    },
    {
      "cell_type": "code",
      "metadata": {
        "id": "9irmoejZQsnw"
      },
      "source": [
        "#PDF/HTML conversion of notebook\n",
        "!apt-get install texlive texlive-xetex texlive-latex-extra pandoc\n",
        "!pip install pypandoc"
      ],
      "execution_count": null,
      "outputs": []
    },
    {
      "cell_type": "code",
      "metadata": {
        "id": "9AAQvH7d35Rp"
      },
      "source": [
        "!jupyter nbconvert --output-dir='results/' --to PDF \"Stephanie_Eordanidis_CIS700_Final_Q1.ipynb\"\n",
        "!jupyter nbconvert --output-dir='results/' --to HTML \"Stephanie_Eordanidis_CIS700_Final_Q1.ipynb\""
      ],
      "execution_count": null,
      "outputs": []
    }
  ]
}