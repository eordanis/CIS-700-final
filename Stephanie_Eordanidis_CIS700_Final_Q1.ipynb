{
  "nbformat": 4,
  "nbformat_minor": 0,
  "metadata": {
    "colab": {
      "name": "Stephanie_Eordanidis_CIS700_Final_Q1.ipynb",
      "provenance": [],
      "collapsed_sections": [],
      "toc_visible": true
    },
    "kernelspec": {
      "display_name": "Python 3",
      "language": "python",
      "name": "python3"
    },
    "language_info": {
      "codemirror_mode": {
        "name": "ipython",
        "version": 2
      },
      "file_extension": ".py",
      "mimetype": "text/x-python",
      "name": "python",
      "nbconvert_exporter": "python",
      "pygments_lexer": "ipython2",
      "version": "2.7.6"
    }
  },
  "cells": [
    {
      "cell_type": "markdown",
      "metadata": {
        "collapsed": false,
        "id": "_RTasmaUQsnX"
      },
      "source": [
        "# Final Q1\n",
        "\n",
        "Stephanie Eordanidis\n",
        "\n",
        "Final Exam Q1\n",
        "\n",
        "College of Engineering & Computer Science, Syracuse University\n",
        "\n",
        "CIS 700 Machine Learning and Security\n",
        "\n",
        "Dr. Alsmadi Izzat\n",
        "\n",
        "06/16/2021\n",
        "\n"
      ]
    },
    {
      "cell_type": "markdown",
      "metadata": {
        "collapsed": false,
        "id": "M443L_l7Qsng"
      },
      "source": [
        "## Purpose:\n",
        "The purpose of this lab is to fullfil the requirements of the final exam's question 1\n",
        "\n",
        "Using the eapoe.txt dataset from the course project, ensemble learning methods will be explored on this dataset. \n",
        "\n",
        "Data Related: \n",
        "First method explored is Stacking, with various classifiers applied, measuring accuracy against each classifier prediciton, and applying subsampling variants to the data to see the affects.\n",
        "\n",
        "Settings Related:\n",
        "Using the code from the date related portion, various settings and hyperparamters will be adjusted to see if we can improve the performance"
      ]
    },
    {
      "cell_type": "markdown",
      "metadata": {
        "collapsed": false,
        "id": "YmXaOJ8AQsni"
      },
      "source": [
        "## (Hard/Soft)ware:\n",
        "**Google Colaboratory**\t\thttps://colab.research.google.com/\n",
        "\n",
        "**GPU**                     Python 3 Google Compute Engine backend\n",
        "\n",
        "**Github**                  https://github.com/eordanis/CIS-700-final"
      ]
    },
    {
      "cell_type": "markdown",
      "metadata": {
        "collapsed": false,
        "id": "QGtxblBCQsni"
      },
      "source": [
        "## Resources:\n",
        "**Original Source:**\n",
        "\n",
        "* [Stacking Source 1](https://medium.com/@saugata.paul1010/ensemble-learning-bagging-boosting-stacking-and-cascading-classifiers-in-machine-learning-9c66cb271674)\n",
        "* [Stacking Source 2](https://machinelearningmastery.com/stacking-ensemble-machine-learning-with-python/)\n",
        "* [Stacking Source 3](https://www.kaggle.com/hdj0401/stacking-classifier-testing)"
      ]
    },
    {
      "cell_type": "markdown",
      "metadata": {
        "collapsed": false,
        "id": "kolVF4c9Qsnj"
      },
      "source": [
        "## Data:\n",
        "The data for the selected project is setup as follows:\n",
        "*   eapoe : 255 sentences\n",
        " *  eapoe : 25 sentences Compiled from various Edgar Allan Po Poems found on referenced poem sight  [1].\n",
        " \n",
        "> **NOTE:** Original dataset was a text only .txt dataset. Merged the original test/training dataset into a .csv column. A new sentiment column was added, in which is the target, half of the data's sentiment column was populated line by line with positive, neutral, or negative pending rating of line, while other half remained empty as to use for test."
      ]
    },
    {
      "cell_type": "markdown",
      "metadata": {
        "collapsed": false,
        "id": "tnT5EoDoQsnk"
      },
      "source": [
        "## Modifications:\n",
        " \n",
        " **Stacking**\n",
        "\n",
        " For stacking.py, code is based on both stacking sources indicated but heavily modified. Cleaned up file and added more classifiers to the py file run. Added arg params to specify data to use as well as if we are running with default hyperparameters or adjusted settings\n",
        "\n"
      ]
    },
    {
      "cell_type": "markdown",
      "metadata": {
        "collapsed": false,
        "id": "BlSdA9AHQsnk"
      },
      "source": [
        "## Setup:\n",
        "Project was run and tested on google colab environment.\n",
        "\n",
        "“Stephanie_Eordanidis_CIS700_Final_Q1”. This workspace was run using the hosted runtime environment. This document is the current document being read.\n",
        "\n",
        "In order to run against provided code base, it was necessary to sync the colab workspace the github repository files as follows\n",
        "\n",
        "```\n",
        "!git clone https://$GITHUB_AUTH@github.com/eordanis/CIS-700-final/\n",
        "```\n",
        "\n",
        "Running this command from the first cell in the workbook syncs the drive to the github repo location of project location, as well as change to the necessary directory\n"
      ]
    },
    {
      "cell_type": "code",
      "metadata": {
        "id": "VW3S7VYw0c-2"
      },
      "source": [
        "import shutil\n",
        "# to prevent nesting problems, remove directory and its contents if exists\n",
        "#if called to remove known existing, must restart runtime before cloning again\n",
        "dir_path = '/content/CIS-700-final'\n",
        "try:\n",
        "    shutil.rmtree(dir_path)\n",
        "except OSError as e:\n",
        "    print(\"Error: %s : %s\" % (dir_path, e.strerror))"
      ],
      "execution_count": null,
      "outputs": []
    },
    {
      "cell_type": "code",
      "metadata": {
        "id": "7jPNtvoeQsnl",
        "colab": {
          "base_uri": "https://localhost:8080/"
        },
        "outputId": "5d840d96-1938-4bc7-ab46-6bc93a2bb327"
      },
      "source": [
        "!git clone https://$GITHUB_AUTH@github.com/eordanis/CIS-700-final/\n",
        "%cd CIS-700-final"
      ],
      "execution_count": null,
      "outputs": [
        {
          "output_type": "stream",
          "text": [
            "Cloning into 'CIS-700-final'...\n",
            "remote: Enumerating objects: 87, done.\u001b[K\n",
            "remote: Counting objects: 100% (87/87), done.\u001b[K\n",
            "remote: Compressing objects: 100% (62/62), done.\u001b[K\n",
            "remote: Total 87 (delta 35), reused 75 (delta 23), pack-reused 0\u001b[K\n",
            "Unpacking objects: 100% (87/87), done.\n",
            "/content/CIS-700-final\n"
          ],
          "name": "stdout"
        }
      ]
    },
    {
      "cell_type": "markdown",
      "metadata": {
        "id": "kiURY7RekLYK"
      },
      "source": [
        "## Code Process\n",
        "Below is a high level description of the process flow for the project code:\n",
        "\n",
        "> **NOTE:** Under test, we first run the ensemble stackign classifier first with standard settings, then run again with adjusted settings applied at all applicable steps in below process\n",
        "\n",
        "1. Anaylyse Arguments\n",
        "\n",
        "    a. If -d is provided, this indicates the dataset location\n",
        "\n",
        "    b. If -a is provided, this indicates to apply settings changes to the ensemble run\n",
        "\n",
        "2. Start recording the model time elapse\n",
        "\n",
        "3. Using dataset location, define and prepare the training and test data, for text data, this means label encoding, test/training splitting, cleaning, and vectorization/feature extraction.\n",
        "\n",
        "4. Then models are retrived and returned, we gather the 6 Independent Classifier modelsthat comprise the Stackinn classifier first, then the ensembled Stacking classifiers. For Stacking Classifier, we to set hyperparamters use_probas=True, average_probas=False, to use the real probabilities of the ensembled classifiers to adjust the Stacking classifier.\n",
        "\n",
        "    a. When adjusted settings are applied, model hyperparameter settings are changed\n",
        "\n",
        "5. After model retrieval, we begin evaluating the model metrics.\n",
        "\n",
        "    a. We determine CV by the RepeatedKFold return\n",
        "\n",
        "        1. When adjusted settings are applied, RepeatedKFold settings are adjusted\n",
        "    \n",
        "    b. We determine each given models cross-validation score and append to a csv\n",
        "\n",
        "6. After csv is populated, we generate a data table and horizontal bar chart for results discussion\n",
        "\n",
        "7. When both standard and adjusted settings runs are completed, we generate a visual comparision under results comparisions section.\n"
      ]
    },
    {
      "cell_type": "markdown",
      "metadata": {
        "id": "FW1FRztnKkb9"
      },
      "source": [
        "## Data Related\n",
        "\n",
        "For this category, Ensemble Classifier method of Stacking was selected. The purpose of applying Stacking is in order to increase prediction model accuracy. Cross validation is used to determine and improve model accuracy. For our purposes, our StackingClassifier also uses the probabiklity of stacked classifier models for even greater accuracy."
      ]
    },
    {
      "cell_type": "code",
      "metadata": {
        "colab": {
          "base_uri": "https://localhost:8080/"
        },
        "id": "rH3hDpOdN_Nk",
        "outputId": "3217c377-2652-4890-c147-94f148d8c867"
      },
      "source": [
        "!python3 -W ignore stacking.py -d 'data/eapoe.csv'"
      ],
      "execution_count": null,
      "outputs": [
        {
          "output_type": "stream",
          "text": [
            "\n",
            "******************************************************************\n",
            "\n",
            "\tStack Ensemble Classifier Example\n",
            "\n",
            "******************************************************************\n",
            "\n",
            "Beginning Classification Modeling...\n",
            "\n",
            "Recording Time Elapse...\n",
            "\n",
            "Accuracy\tVariance (+/-)\tClassifer\n",
            "\n",
            "0.585\t\t0.101\t\tRandomForest  \n",
            "0.641\t\t0.089\t\tKNeighbors  \n",
            "0.623\t\t0.118\t\tLogisticRegression  \n",
            "0.588\t\t0.117\t\tExtraTrees  \n",
            "0.539\t\t0.114\t\tDecisionTree  \n",
            "0.544\t\t0.108\t\tAdaBoost  \n",
            "0.637\t\t0.117\t\tStacking  \n",
            "\n",
            "******** Completed Classification Modeling ********\n",
            "\n",
            "Time Elapsed: 32secs\n",
            "\n"
          ],
          "name": "stdout"
        }
      ]
    },
    {
      "cell_type": "code",
      "metadata": {
        "colab": {
          "base_uri": "https://localhost:8080/",
          "height": 266
        },
        "id": "61U3mo5r9Gac",
        "outputId": "14a93e64-9d8c-4bc7-c3b5-fade37c6a18d"
      },
      "source": [
        "import visual as vis\n",
        "\n",
        "vis.display_stacking_dataframe()"
      ],
      "execution_count": null,
      "outputs": [
        {
          "output_type": "display_data",
          "data": {
            "text/html": [
              "<div>\n",
              "<style scoped>\n",
              "    .dataframe tbody tr th:only-of-type {\n",
              "        vertical-align: middle;\n",
              "    }\n",
              "\n",
              "    .dataframe tbody tr th {\n",
              "        vertical-align: top;\n",
              "    }\n",
              "\n",
              "    .dataframe thead th {\n",
              "        text-align: right;\n",
              "    }\n",
              "</style>\n",
              "<table border=\"1\" class=\"dataframe\">\n",
              "  <thead>\n",
              "    <tr style=\"text-align: right;\">\n",
              "      <th></th>\n",
              "      <th>Classifier</th>\n",
              "      <th>Accuracy</th>\n",
              "      <th>Variance</th>\n",
              "    </tr>\n",
              "  </thead>\n",
              "  <tbody>\n",
              "    <tr>\n",
              "      <th>0</th>\n",
              "      <td>RandomForest</td>\n",
              "      <td>0.5854</td>\n",
              "      <td>0.1013</td>\n",
              "    </tr>\n",
              "    <tr>\n",
              "      <th>1</th>\n",
              "      <td>KNeighbors</td>\n",
              "      <td>0.6414</td>\n",
              "      <td>0.0895</td>\n",
              "    </tr>\n",
              "    <tr>\n",
              "      <th>2</th>\n",
              "      <td>LogisticRegression</td>\n",
              "      <td>0.6233</td>\n",
              "      <td>0.1180</td>\n",
              "    </tr>\n",
              "    <tr>\n",
              "      <th>3</th>\n",
              "      <td>ExtraTrees</td>\n",
              "      <td>0.5875</td>\n",
              "      <td>0.1173</td>\n",
              "    </tr>\n",
              "    <tr>\n",
              "      <th>4</th>\n",
              "      <td>DecisionTree</td>\n",
              "      <td>0.5394</td>\n",
              "      <td>0.1139</td>\n",
              "    </tr>\n",
              "    <tr>\n",
              "      <th>5</th>\n",
              "      <td>AdaBoost</td>\n",
              "      <td>0.5442</td>\n",
              "      <td>0.1078</td>\n",
              "    </tr>\n",
              "    <tr>\n",
              "      <th>6</th>\n",
              "      <td>Stacking</td>\n",
              "      <td>0.6371</td>\n",
              "      <td>0.1174</td>\n",
              "    </tr>\n",
              "  </tbody>\n",
              "</table>\n",
              "</div>"
            ],
            "text/plain": [
              "           Classifier  Accuracy  Variance\n",
              "0        RandomForest    0.5854    0.1013\n",
              "1          KNeighbors    0.6414    0.0895\n",
              "2  LogisticRegression    0.6233    0.1180\n",
              "3          ExtraTrees    0.5875    0.1173\n",
              "4        DecisionTree    0.5394    0.1139\n",
              "5            AdaBoost    0.5442    0.1078\n",
              "6            Stacking    0.6371    0.1174"
            ]
          },
          "metadata": {
            "tags": []
          }
        }
      ]
    },
    {
      "cell_type": "code",
      "metadata": {
        "colab": {
          "base_uri": "https://localhost:8080/",
          "height": 621
        },
        "id": "c1A7kffzEu0z",
        "outputId": "1ef5eae0-caa0-4452-fd56-885af8105aeb"
      },
      "source": [
        "vis.display_stacking_metrics()"
      ],
      "execution_count": null,
      "outputs": [
        {
          "output_type": "display_data",
          "data": {
            "image/png": "[encoded data removed]",
            "text/plain": [
              "<Figure size 720x720 with 1 Axes>"
            ]
          },
          "metadata": {
            "tags": [],
            "needs_background": "light"
          }
        }
      ]
    },
    {
      "cell_type": "markdown",
      "metadata": {
        "id": "tftjOg13IsXO"
      },
      "source": [
        "### Results\n",
        "\n",
        "As seen by above metric results, accuracies for the models are fairly consistent. However, ensemble stacking proves to be more accurate and less variant than majority of the singular layered classifiers applied. \n",
        "\n",
        "Upon examination of the above tables and charts, we have a true visual guage of performance. We see accuracy and variance values for the 6 classifiers that make up the Stacking classifier independently, then we see the same performance indicators for the Stacking classifier itself. \n",
        "\n",
        "We can infer from the above data values, that the Stacking classifier is found to be superior to all of its comprised independent classifiers, with the exception of the Logistic Regression classifier, in which is slightly more accuracy thatn the Stacking. However, if we look at variance, The Stacking classifier is the 3rd worse performance wise, along side Logistic Regression and Extra Trees. The close nature of Logistic Regression and Stacking Classifier can be assumed related to the fact that LogisticRegression was set as the meta learner for the StackClassifier."
      ]
    },
    {
      "cell_type": "markdown",
      "metadata": {
        "id": "pm15IMALLSHT"
      },
      "source": [
        "## Settings Related:\n",
        "\n",
        "Using the same code base as seen for the above section, settings and hyperparameter values are adjusted in the classifier models in order to build a better ensemble classifier. When comparing adjusted hyperparameters settings with default, we see many of the classifier models show greater accuracy and less variance with adjusted settings. This demonstrates that hyperparameter and setting tuning is an important factor in model performance and a valid application of ensemble learning."
      ]
    },
    {
      "cell_type": "code",
      "metadata": {
        "colab": {
          "base_uri": "https://localhost:8080/"
        },
        "id": "XgR3GeNFL7Ju",
        "outputId": "fc753226-5ca8-4ea4-e4ab-b741a75f07fe"
      },
      "source": [
        "!python3 -W ignore stacking.py -d 'data/eapoe.csv' -a 'settings'"
      ],
      "execution_count": null,
      "outputs": [
        {
          "output_type": "stream",
          "text": [
            "\n",
            "******************************************************************\n",
            "\n",
            "\tStack Ensemble Classifier Example\n",
            "\n",
            "******************************************************************\n",
            "\n",
            "Beginning Classification Modeling...\n",
            "\n",
            "Recording Time Elapse...\n",
            "\n",
            "Running Classifiers With Adjusted Settings...\n",
            "\n",
            "Accuracy\tVariance (+/-)\tClassifer\n",
            "\n",
            "0.614\t\t0.140\t\tRandomForest  \n",
            "0.642\t\t0.124\t\tKNeighbors  \n",
            "0.672\t\t0.112\t\tLogisticRegression  \n",
            "0.647\t\t0.124\t\tExtraTrees  \n",
            "0.550\t\t0.114\t\tDecisionTree  \n",
            "0.537\t\t0.117\t\tAdaBoost  \n",
            "0.663\t\t0.131\t\tStacking  \n",
            "\n",
            "******** Completed Classification Modeling ********\n",
            "\n",
            "Time Elapsed: 02mins:16secs\n",
            "\n"
          ],
          "name": "stdout"
        }
      ]
    },
    {
      "cell_type": "code",
      "metadata": {
        "colab": {
          "base_uri": "https://localhost:8080/",
          "height": 266
        },
        "id": "g7XnK6hRQ6lU",
        "outputId": "a65aa672-18d5-41a0-98ed-76af443f927b"
      },
      "source": [
        "vis.display_stacking_dataframe(adjusted='true')"
      ],
      "execution_count": null,
      "outputs": [
        {
          "output_type": "display_data",
          "data": {
            "text/html": [
              "<div>\n",
              "<style scoped>\n",
              "    .dataframe tbody tr th:only-of-type {\n",
              "        vertical-align: middle;\n",
              "    }\n",
              "\n",
              "    .dataframe tbody tr th {\n",
              "        vertical-align: top;\n",
              "    }\n",
              "\n",
              "    .dataframe thead th {\n",
              "        text-align: right;\n",
              "    }\n",
              "</style>\n",
              "<table border=\"1\" class=\"dataframe\">\n",
              "  <thead>\n",
              "    <tr style=\"text-align: right;\">\n",
              "      <th></th>\n",
              "      <th>Classifier</th>\n",
              "      <th>Accuracy</th>\n",
              "      <th>Variance</th>\n",
              "    </tr>\n",
              "  </thead>\n",
              "  <tbody>\n",
              "    <tr>\n",
              "      <th>0</th>\n",
              "      <td>RandomForest</td>\n",
              "      <td>0.6144</td>\n",
              "      <td>0.1399</td>\n",
              "    </tr>\n",
              "    <tr>\n",
              "      <th>1</th>\n",
              "      <td>KNeighbors</td>\n",
              "      <td>0.6421</td>\n",
              "      <td>0.1237</td>\n",
              "    </tr>\n",
              "    <tr>\n",
              "      <th>2</th>\n",
              "      <td>LogisticRegression</td>\n",
              "      <td>0.6716</td>\n",
              "      <td>0.1119</td>\n",
              "    </tr>\n",
              "    <tr>\n",
              "      <th>3</th>\n",
              "      <td>ExtraTrees</td>\n",
              "      <td>0.6475</td>\n",
              "      <td>0.1236</td>\n",
              "    </tr>\n",
              "    <tr>\n",
              "      <th>4</th>\n",
              "      <td>DecisionTree</td>\n",
              "      <td>0.5500</td>\n",
              "      <td>0.1139</td>\n",
              "    </tr>\n",
              "    <tr>\n",
              "      <th>5</th>\n",
              "      <td>AdaBoost</td>\n",
              "      <td>0.5374</td>\n",
              "      <td>0.1166</td>\n",
              "    </tr>\n",
              "    <tr>\n",
              "      <th>6</th>\n",
              "      <td>Stacking</td>\n",
              "      <td>0.6627</td>\n",
              "      <td>0.1311</td>\n",
              "    </tr>\n",
              "  </tbody>\n",
              "</table>\n",
              "</div>"
            ],
            "text/plain": [
              "           Classifier  Accuracy  Variance\n",
              "0        RandomForest    0.6144    0.1399\n",
              "1          KNeighbors    0.6421    0.1237\n",
              "2  LogisticRegression    0.6716    0.1119\n",
              "3          ExtraTrees    0.6475    0.1236\n",
              "4        DecisionTree    0.5500    0.1139\n",
              "5            AdaBoost    0.5374    0.1166\n",
              "6            Stacking    0.6627    0.1311"
            ]
          },
          "metadata": {
            "tags": []
          }
        }
      ]
    },
    {
      "cell_type": "code",
      "metadata": {
        "colab": {
          "base_uri": "https://localhost:8080/",
          "height": 621
        },
        "id": "dDTWZfArQ8PA",
        "outputId": "18cea9d3-c009-4db0-d900-b1bc48379037"
      },
      "source": [
        "vis.display_stacking_metrics(adjusted='true')"
      ],
      "execution_count": null,
      "outputs": [
        {
          "output_type": "display_data",
          "data": {
            "image/png": "[encoded data removed]",
            "text/plain": [
              "<Figure size 720x720 with 1 Axes>"
            ]
          },
          "metadata": {
            "tags": [],
            "needs_background": "light"
          }
        }
      ]
    },
    {
      "cell_type": "markdown",
      "metadata": {
        "id": "K7fFV5R8hMcL"
      },
      "source": [
        "### Results\n",
        "\n",
        "This run is with the Settings changed, but just as seen with the standard run, the above metric results demonstrate accuracies for the models are fairly consistent. Overall accuracies are higher than that of the standard run as well. However, ensemble stacking proves to be more accurate and less variant than majority of the singular layered classifiers applied.\n",
        "\n",
        "As seen by above metric results, accuracies for the models are fairly consistent. However, ensemble stacking proves to be more accurate and less variant than majority of the singular layered classifiers applied. \n",
        "\n",
        "Upon examination of the above tables and charts, we have a true visual guage of performance. We see accuracy and variance values for the 6 classifiers that make up the Stacking classifier independently, then we see the same performance indicators for the Stacking classifier itself. \n",
        "\n",
        "We can infer from the above data values, that the Stacking classifier is found to be superior to all of its comprised independent classifiers, with the exception of the Logistic Regression classifier, in which is slightly more accuracy thatn the Stacking. However, if we look at variance, The Stacking classifier is the 2rd worse performance wise, along side RandomForest."
      ]
    },
    {
      "cell_type": "markdown",
      "metadata": {
        "id": "JAzF4TqWa801"
      },
      "source": [
        "## Compare\n",
        "\n",
        "We will now compare the various runs. \n",
        "\n",
        "First off, we will list the hyperparameters applied to standard ensemble stack run vs the ajusted hyperparameters run.\n",
        "\n",
        "> **NOTE:** Table values below are indicated as such:\n",
        "\n",
        "* *standard* vs *adjusted*\n",
        "\t* if no vs is shown, value is applied to both\n",
        "\n",
        "* N/A if not applicable to classifier\n",
        "\n",
        "|     Classifier   |random_state|n_estimators|n_neighbors|criterion|max_depth|      splitter   |min_samples_split|\n",
        "|------------------|------------|------------|-----------|---------|---------|-----------------|-----------------|\n",
        "|    RandomForest  |   0 vs 1\t|  10 vs 15  |    N/A    |   N/A   |   N/A   |       N/A       |       N/A       |\n",
        "|     KNeighbors   |   0 vs 1\t|     N/A    |   2 vs 3  |   N/A   |   N/A   |       N/A       |       N/A       |\n",
        "|LogisticRegression|   0 vs 1\t|     N/A    |    N/A    |   N/A   |   N/A   |       N/A       |       N/A       |\n",
        "|     ExtraTrees   |   0 vs 1\t|   5 vs 8   |    N/A    |   N/A   |   N/A   |       N/A       |       N/A       |\n",
        "|    DecisionTree  |   0 vs 1\t|     N/A    |    N/A    |   gini  |    2    | best  vs random |      2 vs 3     |\n",
        "|      AdaBoost    |   0 vs 1\t| 100 vs 200 |    N/A    |   N/A   |   N/A   |       N/A       |       N/A       |\n",
        "\n",
        "Again, it should be noted that for both runs, the Stacking classifer is run with:\n",
        "\n",
        "* classifiers -> all 6 classifiers\n",
        "* meta_classifier -> Logistic Regression\n",
        "* use_probas=True\n",
        "* average_probas=False"
      ]
    },
    {
      "cell_type": "code",
      "metadata": {
        "colab": {
          "base_uri": "https://localhost:8080/",
          "height": 297
        },
        "id": "2DOigT2Bg0Bv",
        "outputId": "a5deca2a-ef37-4538-88c2-176dee672b3e"
      },
      "source": [
        "vis.display_comparision_dataframe()"
      ],
      "execution_count": null,
      "outputs": [
        {
          "output_type": "display_data",
          "data": {
            "text/html": [
              "<div>\n",
              "<style scoped>\n",
              "    .dataframe tbody tr th:only-of-type {\n",
              "        vertical-align: middle;\n",
              "    }\n",
              "\n",
              "    .dataframe tbody tr th {\n",
              "        vertical-align: top;\n",
              "    }\n",
              "\n",
              "    .dataframe thead th {\n",
              "        text-align: right;\n",
              "    }\n",
              "</style>\n",
              "<table border=\"1\" class=\"dataframe\">\n",
              "  <thead>\n",
              "    <tr style=\"text-align: right;\">\n",
              "      <th></th>\n",
              "      <th>Acc_Adjusted</th>\n",
              "      <th>Acc_Standard</th>\n",
              "      <th>Var_Adjusted</th>\n",
              "      <th>Var_Standard</th>\n",
              "    </tr>\n",
              "    <tr>\n",
              "      <th>Classifier</th>\n",
              "      <th></th>\n",
              "      <th></th>\n",
              "      <th></th>\n",
              "      <th></th>\n",
              "    </tr>\n",
              "  </thead>\n",
              "  <tbody>\n",
              "    <tr>\n",
              "      <th>RandomForest</th>\n",
              "      <td>0.6144</td>\n",
              "      <td>0.5854</td>\n",
              "      <td>0.1399</td>\n",
              "      <td>0.1013</td>\n",
              "    </tr>\n",
              "    <tr>\n",
              "      <th>KNeighbors</th>\n",
              "      <td>0.6421</td>\n",
              "      <td>0.6414</td>\n",
              "      <td>0.1237</td>\n",
              "      <td>0.0895</td>\n",
              "    </tr>\n",
              "    <tr>\n",
              "      <th>LogisticRegression</th>\n",
              "      <td>0.6716</td>\n",
              "      <td>0.6233</td>\n",
              "      <td>0.1119</td>\n",
              "      <td>0.1180</td>\n",
              "    </tr>\n",
              "    <tr>\n",
              "      <th>ExtraTrees</th>\n",
              "      <td>0.6475</td>\n",
              "      <td>0.5875</td>\n",
              "      <td>0.1236</td>\n",
              "      <td>0.1173</td>\n",
              "    </tr>\n",
              "    <tr>\n",
              "      <th>DecisionTree</th>\n",
              "      <td>0.5500</td>\n",
              "      <td>0.5394</td>\n",
              "      <td>0.1139</td>\n",
              "      <td>0.1139</td>\n",
              "    </tr>\n",
              "    <tr>\n",
              "      <th>AdaBoost</th>\n",
              "      <td>0.5374</td>\n",
              "      <td>0.5442</td>\n",
              "      <td>0.1166</td>\n",
              "      <td>0.1078</td>\n",
              "    </tr>\n",
              "    <tr>\n",
              "      <th>Stacking</th>\n",
              "      <td>0.6627</td>\n",
              "      <td>0.6371</td>\n",
              "      <td>0.1311</td>\n",
              "      <td>0.1174</td>\n",
              "    </tr>\n",
              "  </tbody>\n",
              "</table>\n",
              "</div>"
            ],
            "text/plain": [
              "                    Acc_Adjusted  Acc_Standard  Var_Adjusted  Var_Standard\n",
              "Classifier                                                                \n",
              "RandomForest              0.6144        0.5854        0.1399        0.1013\n",
              "KNeighbors                0.6421        0.6414        0.1237        0.0895\n",
              "LogisticRegression        0.6716        0.6233        0.1119        0.1180\n",
              "ExtraTrees                0.6475        0.5875        0.1236        0.1173\n",
              "DecisionTree              0.5500        0.5394        0.1139        0.1139\n",
              "AdaBoost                  0.5374        0.5442        0.1166        0.1078\n",
              "Stacking                  0.6627        0.6371        0.1311        0.1174"
            ]
          },
          "metadata": {
            "tags": []
          }
        }
      ]
    },
    {
      "cell_type": "code",
      "metadata": {
        "colab": {
          "base_uri": "https://localhost:8080/",
          "height": 621
        },
        "id": "d5FKB7epg3Zj",
        "outputId": "5cb6efd8-2354-4e98-8bad-610f938da8cc"
      },
      "source": [
        "vis.display_comparision_metrics()"
      ],
      "execution_count": null,
      "outputs": [
        {
          "output_type": "display_data",
          "data": {
            "image/png": "[encoded data removed]",
            "text/plain": [
              "<Figure size 720x720 with 1 Axes>"
            ]
          },
          "metadata": {
            "tags": [],
            "needs_background": "light"
          }
        }
      ]
    },
    {
      "cell_type": "markdown",
      "metadata": {
        "id": "xwlJKww3hEwe"
      },
      "source": [
        "### Comparision Results\n",
        "\n",
        "When we examine the combined standard vs adjusted metrics, we see that although variance of adjusted metrics appear higher when compared to standard, the adjusted accuries overall are superior to that of standard with the exception of adaboost. More specifically, as we examine the metrics and charting, we can infer that the LogisticRegression and the Extra Trees Classifiers saw greater accuracies when run with settings manipulations vs runnign with standard settings. Futhermore it is important to note the difference of the stacked enseble classifier both standard and adjusted when compared with the non ensemble classifiers, as overall the ensemble learning functionallity indeed improve overall performance and accuracy comparitavely.\n",
        "\n",
        "From this we can conclude that ensemble learning methods of various types, when applied in a concise and proper manner, can futher the accuracy and robustness of machine learning models, resulting in more quality application and predictions.\n",
        "\n"
      ]
    },
    {
      "cell_type": "code",
      "metadata": {
        "id": "9irmoejZQsnw"
      },
      "source": [
        "#PDF/HTML conversion of notebook\n",
        "!dpkg --configure -a\n",
        "!apt-get install texlive texlive-xetex texlive-latex-extra pandoc\n",
        "!pip install pypandoc"
      ],
      "execution_count": null,
      "outputs": []
    },
    {
      "cell_type": "code",
      "metadata": {
        "id": "9AAQvH7d35Rp"
      },
      "source": [
        "%cd /content/CIS-700-final/\n",
        "!jupyter nbconvert --output-dir='results/' --to PDF \"Stephanie_Eordanidis_CIS700_Final_Q1.ipynb\"\n",
        "!jupyter nbconvert --output-dir='results/' --to HTML \"Stephanie_Eordanidis_CIS700_Final_Q1.ipynb\""
      ],
      "execution_count": null,
      "outputs": []
    }
  ]
}